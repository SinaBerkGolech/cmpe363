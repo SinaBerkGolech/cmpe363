{
 "cells": [
  {
   "cell_type": "code",
   "execution_count": 10,
   "metadata": {},
   "outputs": [],
   "source": [
    "import pandas as pd"
   ]
  },
  {
   "cell_type": "code",
   "execution_count": 11,
   "metadata": {},
   "outputs": [],
   "source": [
    "with open('Mysite.html', 'w') as site:\n",
    "    site.write('<html>')\n",
    "    \n",
    "    site.write('<head>')\n",
    "    site.write('<title> Assignment5 </title>')\n",
    "    site.write('/<head>')\n",
    "    \n",
    "    site.write('<div>')\n",
    "    site.write('<h1>The group members: </h1>');\n",
    "    site.write('<p>Ertugrul Taparci (IE - CMPE) 117203052</p>');\n",
    "    site.write('<p>Sina Berk Golech (CMPE - BIOE) 118200041</p>');\n",
    "    site.write('</div>')\n",
    "    \n",
    "    site.write('<table>')\n",
    "    \n",
    "    file = pd.read_csv(\"Query 2.csv\") \n",
    "    html_table = file.to_html() \n",
    "    site.write(html_table)\n",
    "   \n",
    "\n",
    "    site.write('</tr>')\n",
    "    site.write('</table>')\n",
    "    site.write('</body>')\n",
    "    site.write('</html>')"
   ]
  },
  {
   "cell_type": "code",
   "execution_count": null,
   "metadata": {},
   "outputs": [],
   "source": []
  }
 ],
 "metadata": {
  "kernelspec": {
   "display_name": "Python 3",
   "language": "python",
   "name": "python3"
  },
  "language_info": {
   "codemirror_mode": {
    "name": "ipython",
    "version": 3
   },
   "file_extension": ".py",
   "mimetype": "text/x-python",
   "name": "python",
   "nbconvert_exporter": "python",
   "pygments_lexer": "ipython3",
   "version": "3.8.5"
  }
 },
 "nbformat": 4,
 "nbformat_minor": 4
}
